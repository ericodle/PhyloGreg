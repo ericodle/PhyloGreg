{
  "nbformat": 4,
  "nbformat_minor": 0,
  "metadata": {
    "colab": {
      "provenance": [],
      "authorship_tag": "ABX9TyNaePA9JOtsIAvYKoTMQEke",
      "include_colab_link": true
    },
    "kernelspec": {
      "name": "python3",
      "display_name": "Python 3"
    },
    "language_info": {
      "name": "python"
    }
  },
  "cells": [
    {
      "cell_type": "markdown",
      "metadata": {
        "id": "view-in-github",
        "colab_type": "text"
      },
      "source": [
        "<a href=\"https://colab.research.google.com/github/ericodle/PhyloGreg/blob/main/tokenize.ipynb\" target=\"_parent\"><img src=\"https://colab.research.google.com/assets/colab-badge.svg\" alt=\"Open In Colab\"/></a>"
      ]
    },
    {
      "cell_type": "code",
      "source": [
        "# Load the Drive helper and mount\n",
        "from google.colab import drive\n",
        "drive.mount('/content/drive')"
      ],
      "metadata": {
        "id": "9clXXw0yl37h",
        "colab": {
          "base_uri": "https://localhost:8080/"
        },
        "outputId": "0d5697b1-ace4-4170-f27a-bcd635c5b05e"
      },
      "execution_count": null,
      "outputs": [
        {
          "output_type": "stream",
          "name": "stdout",
          "text": [
            "Mounted at /content/drive\n"
          ]
        }
      ]
    },
    {
      "cell_type": "code",
      "source": [
        "import pandas as pd\n",
        "import csv"
      ],
      "metadata": {
        "id": "KopcPNzcltaM"
      },
      "execution_count": null,
      "outputs": []
    },
    {
      "cell_type": "code",
      "execution_count": null,
      "metadata": {
        "id": "pqxKHqF8ljZ2"
      },
      "outputs": [],
      "source": [
        "# Define the IUPAC codes for nucleotide ambiguity\n",
        "NUCLEOTIDE_CODES = {\n",
        "    \"A\": [1, 0, 0, 0],\n",
        "    \"C\": [0, 1, 0, 0],\n",
        "    \"G\": [0, 0, 1, 0],\n",
        "    \"T\": [0, 0, 0, 1],\n",
        "    \"U\": [0, 0, 0, 1],  # add U code for RNA\n",
        "    \"R\": [0.5, 0, 0.5, 0],\n",
        "    \"Y\": [0, 0.5, 0, 0.5],\n",
        "    \"S\": [0, 0.5, 0.5, 0],\n",
        "    \"W\": [0.5, 0, 0, 0.5],\n",
        "    \"K\": [0, 0, 0.5, 0.5],\n",
        "    \"M\": [0.5, 0.5, 0, 0],\n",
        "    \"B\": [0, 1/3, 1/3, 1/3],\n",
        "    \"D\": [1/3, 0, 1/3, 1/3],\n",
        "    \"H\": [1/3, 1/3, 0, 1/3],\n",
        "    \"V\": [1/3, 1/3, 1/3, 0],\n",
        "    \"N\": [0.25, 0.25, 0.25, 0.25],\n",
        "    \"-\": [0, 0, 0, 0]  # for gaps\n",
        "}"
      ]
    },
    {
      "cell_type": "code",
      "source": [
        "def tokenize_fasta(file_path):\n",
        "    \"\"\"\n",
        "    Tokenizes a FASTA file and saves the result to a CSV file.\n",
        "    \n",
        "    Args:\n",
        "    - file_path (str): The path to the FASTA file.\n",
        "    \n",
        "    Returns:\n",
        "    - None\n",
        "    \"\"\"\n",
        "    # import pandas here\n",
        "    import pandas as pd\n",
        "    \n",
        "    # Read the FASTA file\n",
        "    with open(file_path) as f:\n",
        "        lines = f.readlines()\n",
        "\n",
        "    # Tokenize each sequence in the FASTA file\n",
        "    tokens = []\n",
        "    for i in range(len(lines)):\n",
        "        if lines[i].startswith('>'):\n",
        "            name = lines[i].strip()[1:] # extract the sequence name\n",
        "            seq = ''\n",
        "            for j in range(i+1, len(lines)):\n",
        "                if lines[j].startswith('>'):\n",
        "                    break\n",
        "                seq += lines[j].strip()\n",
        "            tokenized_seq = [[NUCLEOTIDE_CODES[c] for c in seq]]\n",
        "            tokens.append((name, tokenized_seq))\n",
        "\n",
        "    # Save the tokenized sequences to a CSV file\n",
        "    df = pd.DataFrame(tokens, columns=['id', 'sequence'])\n",
        "    df.to_csv('sequences.csv', index=False)"
      ],
      "metadata": {
        "id": "q_oQrXnnlwAV"
      },
      "execution_count": null,
      "outputs": []
    },
    {
      "cell_type": "code",
      "source": [
        "fasta_filename = '/content/drive/MyDrive/euk_extract.fasta'\n",
        "tokenize_fasta(fasta_filename)"
      ],
      "metadata": {
        "id": "BT2PWP0ylyGp"
      },
      "execution_count": null,
      "outputs": []
    }
  ]
}